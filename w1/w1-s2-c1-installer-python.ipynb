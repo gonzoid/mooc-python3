{
 "cells": [
  {
   "cell_type": "markdown",
   "metadata": {},
   "source": [
    "<style>div.title-slide {    width: 100%;    display: flex;    flex-direction: row;            /* default value; can be omitted */    flex-wrap: nowrap;              /* default value; can be omitted */    justify-content: space-between;}</style><div class=\"title-slide\">\n",
    "<span style=\"float:left;\">Licence CC BY-NC-ND</span>\n",
    "<span>Thierry Parmentelat &amp; Arnaud Legout</span>\n",
    "<span><img src=\"media/both-logos-small-alpha.png\" style=\"display:inline\" /></span>\n",
    "</div>"
   ]
  },
  {
   "cell_type": "markdown",
   "metadata": {},
   "source": [
    "# Installer la distribution standard python"
   ]
  },
  {
   "cell_type": "markdown",
   "metadata": {},
   "source": [
    "## Complément - niveau basique"
   ]
  },
  {
   "cell_type": "markdown",
   "metadata": {},
   "source": [
    "Ce complément a pour but de vous donner quelques guides pour l'installation de la distribution standard python 3. \n",
    "\n",
    "Notez bien qu'il ne s'agit ici que d'indications, il existe de nombreuses façons de procéder.\n",
    "\n",
    "En cas de souci, commencez par chercher par vous-même sur google ou autre une solution à votre problème&nbsp;; pensez également à utiliser le forum du cours."
   ]
  },
  {
   "cell_type": "markdown",
   "metadata": {},
   "source": [
    "Le point important est de **bien vérifier le numéro de version** de votre installation qui doit être **au moins 3.6**"
   ]
  },
  {
   "cell_type": "markdown",
   "metadata": {},
   "source": [
    "# Digression - coexistence de python2 et python3"
   ]
  },
  {
   "cell_type": "markdown",
   "metadata": {},
   "source": [
    "Avant l'arrivée de la version 3 de python, les choses étaient simples, on exécutait un programme python avec une commande `python`. Depuis 2014-2015, maintenant que les deux versions de python coexistent, il est nécessaire d'adopter une convention qui permette d'installer les deux langages sous des noms qui sont non-ambigus.\n",
    "\n",
    "C'est pourquoi actuellement, on trouve **le plus souvent** la convention suivante sous Linux et Mac OS X&nbsp;:\n",
    "\n",
    "* `python3` est pour exécuter les programmes en python-3&nbsp;; du coup on trouve alors également les commandes comme `idle3` pour lancer IDLE, et par exemple `pip3` pour le gestionnaire de paquets (voir ci-dessous).\n",
    "\n",
    "* `python2` est pour exécuter les programmes en python-2, avec typiquement `idle2` et `pip2`;\n",
    "\n",
    "* enfin selon les systèmes, la commande `python` tout court est un alias pour `python2` ou `python3`. De plus en plus souvent, par défaut `python` désigne `python3`.\n",
    "\n",
    "à titre d'illustration, voici ce que j'obtiens sur mon mac&nbsp;:\n",
    "\n",
    "```\n",
    "$ python3 -V\n",
    "Python 3.6.2\n",
    "$ python2 -V\n",
    "Python 2.7.13\n",
    "$ python -V\n",
    "Python 3.6.2\n",
    "```\n",
    "\n",
    "Sous Windows, vous avez un lanceur qui s'appelle `py`. Par défaut, il lance la version de python la plus récente installée, mais vous pouvez spécifier une version spécifique de la manière suivante&nbsp;: \n",
    "```\n",
    "C:\\> py -2.7\n",
    "``` \n",
    "\n",
    "pour lancer, par exemple, python en version 2.7. Vous trouverez toute la documentation nécessaire pour Windows sur cette page (en anglais)&nbsp;: https://docs.python.org/3/using/windows.html\n",
    "\n",
    "Pour éviter d'éventuelles confusions, nous précisons toujours `python3` dans le cours."
   ]
  },
  {
   "cell_type": "markdown",
   "metadata": {},
   "source": [
    "# Installation de base"
   ]
  },
  {
   "cell_type": "markdown",
   "metadata": {},
   "source": [
    "### Vous utilisez Windows"
   ]
  },
  {
   "cell_type": "markdown",
   "metadata": {},
   "source": [
    "La méthode recommandée sur Windows est de partir de la page  https://www.python.org/download\n",
    "où vous trouverez un programme d'installation qui contient tout ce dont vous aurez besoin pour suivre le cours.\n",
    "\n",
    "Pour vérifier que vous êtes prêts, il vous faut lancer IDLE (quelque part dans le menu Démarrer) et vérifier le numéro de version."
   ]
  },
  {
   "cell_type": "markdown",
   "metadata": {},
   "source": [
    "### Vous utilisez MacOS"
   ]
  },
  {
   "cell_type": "markdown",
   "metadata": {},
   "source": [
    "Ici encore, la méthode recommandée est de partir de la page https://www.python.org/download\n",
    "et d'utiliser le programme d'installation.\n",
    "\n",
    "Sachez aussi, si vous utilisez déjà MacPorts (https://www.macports.org), que vous pouvez également utiliser cet outil pour installer, par exemple python 3.6, avec la commande"
   ]
  },
  {
   "cell_type": "markdown",
   "metadata": {},
   "source": [
    "    $ sudo port install python36"
   ]
  },
  {
   "cell_type": "markdown",
   "metadata": {},
   "source": [
    "### Vous utilisez Linux"
   ]
  },
  {
   "cell_type": "markdown",
   "metadata": {},
   "source": [
    "Dans ce cas il y est très probable que python-3.x est déjà disponible sur votre machine. Pour vous en assurer, essayez de lancer la commande `python3` dans un terminal. "
   ]
  },
  {
   "cell_type": "markdown",
   "metadata": {},
   "source": [
    "##### Redhat / Fedora"
   ]
  },
  {
   "cell_type": "markdown",
   "metadata": {},
   "source": [
    "Voici par exemple ce qu'on obtient depuis un terminal sur une machine installée en Fedora-20 "
   ]
  },
  {
   "cell_type": "markdown",
   "metadata": {},
   "source": [
    "    $ python3\n",
    "    Python 3.6.2 (default, Jul 20 2017, 12:30:02)\n",
    "    [GCC 6.3.1 20161221 (Red Hat 6.3.1-1)] on linux\n",
    "    Type \"help\", \"copyright\", \"credits\" or \"license\" for more information.\n",
    "    >>> exit()\n",
    "    "
   ]
  },
  {
   "cell_type": "markdown",
   "metadata": {},
   "source": [
    "**Vérifiez bien le numéro de version** qui doit être en 3.*x*. Si vous obtenez un message du style `python3: command not found` utilisez `dnf` (anciennement connu sous le nom de `yum`) pour installer le rpm `python3` comme ceci"
   ]
  },
  {
   "cell_type": "markdown",
   "metadata": {},
   "source": [
    "    $ sudo dnf install python3"
   ]
  },
  {
   "cell_type": "markdown",
   "metadata": {},
   "source": [
    "S'agissant de `idle`, l'éditeur que nous utilisons dans le cours (optionnel si vous êtes familier avec un éditeur de texte), vérifiez sa présence comme ceci"
   ]
  },
  {
   "cell_type": "markdown",
   "metadata": {},
   "source": [
    "    $ type idle3\n",
    "    idle is hashed (/usr/bin/idle3)"
   ]
  },
  {
   "cell_type": "markdown",
   "metadata": {},
   "source": [
    "Ici encore, si la commande n'est pas disponible vous pouvez l'installer avec"
   ]
  },
  {
   "cell_type": "markdown",
   "metadata": {},
   "source": [
    "    $ sudo yum install python3-tools"
   ]
  },
  {
   "cell_type": "markdown",
   "metadata": {},
   "source": [
    "##### Debian / Ubuntu"
   ]
  },
  {
   "cell_type": "markdown",
   "metadata": {},
   "source": [
    "Ici encore, python-2.7 est sans doute déja disponible. Procédez comme ci-dessus, voici un exemple recueilli dans un terminal sur une machine installée en Ubuntu-14.04/trusty"
   ]
  },
  {
   "cell_type": "markdown",
   "metadata": {},
   "source": [
    "    $ python3\n",
    "    Python 3.6.2 (default, Jul 20 2017, 12:30:02)\n",
    "    [GCC 6.3.1 20161221 (Red Hat 6.3.1-1)] on linux\n",
    "    Type \"help\", \"copyright\", \"credits\" or \"license\" for more information.\n",
    "    >>> exit()"
   ]
  },
  {
   "cell_type": "markdown",
   "metadata": {},
   "source": [
    "Pour installer python"
   ]
  },
  {
   "cell_type": "markdown",
   "metadata": {},
   "source": [
    "    $ sudo apt-get install python3"
   ]
  },
  {
   "cell_type": "markdown",
   "metadata": {},
   "source": [
    "Pour installer idle"
   ]
  },
  {
   "cell_type": "markdown",
   "metadata": {},
   "source": [
    "    $ sudo apt-get install idle3"
   ]
  },
  {
   "cell_type": "markdown",
   "metadata": {},
   "source": [
    "### Installation de librairies complémentaires"
   ]
  },
  {
   "cell_type": "markdown",
   "metadata": {},
   "source": [
    "Il existe un outil très pratique pour installer les librairies python, il s'appelle `pip3`, qui est documenté ici https://pypi.python.org/pypi/pip"
   ]
  },
  {
   "cell_type": "markdown",
   "metadata": {},
   "source": [
    "Sachez aussi, si par ailleurs vous utilisez un gestionnaire de package comme `rpm` sur RedHat, `apt-get` sur debian, ou `port` sur MacOS, que de nombreux packages sont également disponibles au travers de ces outils."
   ]
  },
  {
   "cell_type": "markdown",
   "metadata": {},
   "source": [
    "# Anaconda"
   ]
  },
  {
   "cell_type": "markdown",
   "metadata": {},
   "source": [
    "Sachez qu'il existe beaucoup de distributions alternatives qui incluent python&nbsp;; parmi elles, la plus populaire est sans aucun doute [Anaconda](https://www.anaconda.com/), qui contient un grand nombre de bibliothèques de calcul scientifique, et également d'ailleurs jupyter pour travailler nativement sur des notebooks au format `.ipynb`.\n",
    "\n",
    "Anaconda vient avec son propre gestionnaires de paquets pour l'installation de librairies supplémentaires qui s'appelle `conda`."
   ]
  }
 ],
 "metadata": {
  "kernelspec": {
   "display_name": "Python 3",
   "language": "python",
   "name": "python3"
  },
  "language_info": {
   "codemirror_mode": {
    "name": "ipython",
    "version": 3
   },
   "file_extension": ".py",
   "mimetype": "text/x-python",
   "name": "python",
   "nbconvert_exporter": "python",
   "pygments_lexer": "ipython3",
   "version": "3.6.3"
  },
  "livereveal": {
   "auto_select": "code",
   "auto_select_fragment": true,
   "autolaunch": false,
   "backimage": "media/nologo.png",
   "height": "100%",
   "slideNumber": "c",
   "start_slideshow_at": "selected",
   "theme": "simple",
   "transition": "fade",
   "width": "100%"
  },
  "notebookname": "Installer python 3.6",
  "version": "3.0"
 },
 "nbformat": 4,
 "nbformat_minor": 1
}
