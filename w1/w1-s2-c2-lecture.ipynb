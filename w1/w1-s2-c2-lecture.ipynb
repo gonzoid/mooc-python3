{
 "cells": [
  {
   "cell_type": "markdown",
   "metadata": {},
   "source": [
    "<style>div.title-slide {    width: 100%;    display: flex;    flex-direction: row;            /* default value; can be omitted */    flex-wrap: nowrap;              /* default value; can be omitted */    justify-content: space-between;}</style><div class=\"title-slide\">\n",
    "<span style=\"float:left;\">Licence CC BY-NC-ND</span>\n",
    "<span>Thierry Parmentelat &amp; Arnaud Legout</span>\n",
    "<span><img src=\"media/both-logos-small-alpha.png\" style=\"display:inline\" /></span>\n",
    "</div>"
   ]
  },
  {
   "cell_type": "markdown",
   "metadata": {},
   "source": [
    "# Un peu de lecture"
   ]
  },
  {
   "cell_type": "markdown",
   "metadata": {},
   "source": [
    "## Complément - niveau basique"
   ]
  },
  {
   "cell_type": "markdown",
   "metadata": {},
   "source": [
    "### Le zen de python"
   ]
  },
  {
   "cell_type": "markdown",
   "metadata": {},
   "source": [
    "Vous pouvez lire le \"zen de python\", qui résume la philosophie du langage, en important le module `this` avec ce code&nbsp;: (pour exécuter ce code, cliquer dans la cellule de code, et faites au clavier \"Majuscule/Entrée\" ou \"Shift/Enter\")"
   ]
  },
  {
   "cell_type": "code",
   "execution_count": 1,
   "metadata": {},
   "outputs": [
    {
     "name": "stdout",
     "output_type": "stream",
     "text": [
      "The Zen of Python, by Tim Peters\n",
      "\n",
      "Beautiful is better than ugly.\n",
      "Explicit is better than implicit.\n",
      "Simple is better than complex.\n",
      "Complex is better than complicated.\n",
      "Flat is better than nested.\n",
      "Sparse is better than dense.\n",
      "Readability counts.\n",
      "Special cases aren't special enough to break the rules.\n",
      "Although practicality beats purity.\n",
      "Errors should never pass silently.\n",
      "Unless explicitly silenced.\n",
      "In the face of ambiguity, refuse the temptation to guess.\n",
      "There should be one-- and preferably only one --obvious way to do it.\n",
      "Although that way may not be obvious at first unless you're Dutch.\n",
      "Now is better than never.\n",
      "Although never is often better than *right* now.\n",
      "If the implementation is hard to explain, it's a bad idea.\n",
      "If the implementation is easy to explain, it may be a good idea.\n",
      "Namespaces are one honking great idea -- let's do more of those!\n"
     ]
    }
   ],
   "source": [
    "# le zen de python\n",
    "import this"
   ]
  },
  {
   "cell_type": "markdown",
   "metadata": {},
   "source": [
    "### Documentation"
   ]
  },
  {
   "cell_type": "markdown",
   "metadata": {},
   "source": [
    " * On peut commencer par citer l'[article de wikipedia sur python en français](http://fr.wikipedia.org/wiki/Python_%28langage%29)\n",
    "\n",
    " * La [page sur le langage en français](https://wiki.python.org/moin/FrenchLanguage)\n",
    " \n",
    " * La [documentation originale](https://docs.python.org/3/) de python-3 - donc, en anglais - est un très bon point d'entrée lorsqu'on cherche un sujet particulier, mais (beaucoup) trop abondante pour être lue d'un seul trait. Pour chercher de la documentation sur un module particulier, le plus simple est encore d'utiliser google - ou votre moteur de recherche favori - qui vous redirigera dans la grande majorité des cas vers la page qui va bien dans, précisément, la documentation python.\n",
    "\n",
    "   À titre d'exercice, cherchez la documentation du module `pathlib` en [cherchant sur google \"`python module pathlib`\"](https://www.google.fr/search?q=python+module+pathlib)."
   ]
  },
  {
   "cell_type": "markdown",
   "metadata": {},
   "source": [
    "### Historique et survol"
   ]
  },
  {
   "cell_type": "markdown",
   "metadata": {},
   "source": [
    " * La FAQ officielle de Python (en anglais) sur [les choix de conception et l'historique du langage](https://docs.python.org/3/faq/design.html)\n",
    " * L'article de wikipedia (en anglais) sur l'[historique du langage](http://en.wikipedia.org/wiki/History_of_Python)\n",
    " * Sur wikipédia, un article (en anglais) sur [la syntaxe et la sémantique de python](http://en.wikipedia.org/wiki/Python_syntax_and_semantics) "
   ]
  },
  {
   "cell_type": "markdown",
   "metadata": {},
   "source": [
    "### Un peu de folklore"
   ]
  },
  {
   "cell_type": "markdown",
   "metadata": {},
   "source": [
    " * Le [talk de Guido van Rossum à PyCon 2016](https://www.youtube.com/watch?v=YgtL4S7Hrwo)\n",
    " * Sur youtube, le [sketch des monty python](https://www.youtube.com/watch?v=anwy2MPT5RE) d'où provient les termes `spam`, `eggs` et autres `beans` qu'on utilise traditionnellement dans les exemples en python plutôt que `foo` et `bar`\n",
    " * L'[article wikipedia correspondant](http://en.wikipedia.org/wiki/Spam_%28Monty_Python%29), qui cite le langage python"
   ]
  },
  {
   "cell_type": "markdown",
   "metadata": {},
   "source": [
    "## Complément - niveau intermédiaire"
   ]
  },
  {
   "cell_type": "markdown",
   "metadata": {},
   "source": [
    "### Licence"
   ]
  },
  {
   "cell_type": "markdown",
   "metadata": {},
   "source": [
    "* La [licence d'utilisation est disponible ici](https://docs.python.org/3/license.html)\n",
    "* La page de la [Python Software Foundation](https://www.python.org/psf/), qui est une entité légale similaire à nos associations de 1901, à but non lucratif&nbsp;; elle possède les droits sur le langage"
   ]
  },
  {
   "cell_type": "markdown",
   "metadata": {},
   "source": [
    "### Le processus de développement"
   ]
  },
  {
   "cell_type": "markdown",
   "metadata": {},
   "source": [
    " * Comment les choix d'évolution sont proposés et discutés, au travers des PEP (Python Enhacement Proposal)\n",
    "   * http://en.wikipedia.org/wiki/Python_(programming_language)#Development\n",
    " * Le premier PEP décrit en détail le cycle de vie des PEPs\n",
    "   * http://legacy.python.org/dev/peps/pep-0001/\n",
    " * Le PEP 8, qui préconise un style de présentation (*style guide*)\n",
    "   * http://legacy.python.org/dev/peps/pep-0008/\n",
    " * L'index de tous les PEPs\n",
    "   * http://legacy.python.org/dev/peps/        "
   ]
  }
 ],
 "metadata": {
  "kernelspec": {
   "display_name": "Python 3",
   "language": "python",
   "name": "python3"
  },
  "language_info": {
   "codemirror_mode": {
    "name": "ipython",
    "version": 3
   },
   "file_extension": ".py",
   "mimetype": "text/x-python",
   "name": "python",
   "nbconvert_exporter": "python",
   "pygments_lexer": "ipython3",
   "version": "3.6.3"
  },
  "livereveal": {
   "auto_select": "code",
   "auto_select_fragment": true,
   "autolaunch": false,
   "backimage": "media/nologo.png",
   "height": "100%",
   "slideNumber": "c",
   "start_slideshow_at": "selected",
   "theme": "simple",
   "transition": "fade",
   "width": "100%"
  },
  "notebookname": "De la lecture",
  "version": "3.0"
 },
 "nbformat": 4,
 "nbformat_minor": 1
}
